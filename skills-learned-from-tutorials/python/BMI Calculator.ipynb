{
 "cells": [
  {
   "cell_type": "markdown",
   "id": "0142d4ba",
   "metadata": {},
   "source": [
    "# BMI Calculator"
   ]
  },
  {
   "cell_type": "code",
   "execution_count": 7,
   "id": "3ec2c90b",
   "metadata": {
    "scrolled": true
   },
   "outputs": [
    {
     "name": "stdout",
     "output_type": "stream",
     "text": [
      "Enter your weight in poinds: -10\n",
      "Enter your height in inches: -22\n",
      "Your BMI is -14.524793388429751 You are Underweight\n"
     ]
    }
   ],
   "source": [
    "weight = int(input(\"Enter your weight in poinds: \"))\n",
    "height = int(input(\"Enter your height in inches: \"))\n",
    "\n",
    "bmi = (weight * 703) / (height * height)\n",
    "\n",
    "if bmi < 18.5:\n",
    "    print('Your BMI is', bmi, 'You are Underweight')\n",
    "elif bmi <= 24.9:\n",
    "    print('Your BMI is', bmi, 'You are Normal Weight')\n",
    "elif bmi <= 29.9:\n",
    "    print('Your BMI is', bmi, 'You are Overweight')\n",
    "elif bmi <= 34.9:\n",
    "    print('Your BMI is', bmi, 'You are Obsese')\n",
    "elif bmi <= 39.9:\n",
    "    print('Your BMI is', bmi, 'You are Severly Obsese')\n",
    "else:\n",
    "    print('Your BMI is', bmi, 'You are Morbidly Obese')"
   ]
  },
  {
   "cell_type": "code",
   "execution_count": 5,
   "id": "8e696136",
   "metadata": {},
   "outputs": [
    {
     "name": "stdout",
     "output_type": "stream",
     "text": [
      "Your BMI is 25.101869355177485 You are Overweight\n"
     ]
    }
   ],
   "source": [
    "if bmi < 18.5:\n",
    "    print('Your BMI is', bmi, 'You are Underweight')\n",
    "elif bmi <= 24.9:\n",
    "    print('Your BMI is', bmi, 'You are Normal Weight')\n",
    "elif bmi <= 29.9:\n",
    "    print('Your BMI is', bmi, 'You are Overweight')\n",
    "elif bmi <= 34.9:\n",
    "    print('Your BMI is', bmi, 'You are Obsese')\n",
    "elif bmi <= 39.9:\n",
    "    print('Your BMI is', bmi, 'You are Severly Obsese')\n",
    "else:\n",
    "    print('Your BMI is', bmi, 'You are Morbidly Obese')"
   ]
  },
  {
   "cell_type": "code",
   "execution_count": null,
   "id": "b80213e6",
   "metadata": {},
   "outputs": [],
   "source": []
  }
 ],
 "metadata": {
  "kernelspec": {
   "display_name": "Python 3 (ipykernel)",
   "language": "python",
   "name": "python3"
  },
  "language_info": {
   "codemirror_mode": {
    "name": "ipython",
    "version": 3
   },
   "file_extension": ".py",
   "mimetype": "text/x-python",
   "name": "python",
   "nbconvert_exporter": "python",
   "pygments_lexer": "ipython3",
   "version": "3.11.4"
  }
 },
 "nbformat": 4,
 "nbformat_minor": 5
}
