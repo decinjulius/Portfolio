{
 "cells": [
  {
   "cell_type": "markdown",
   "id": "b8b60a25",
   "metadata": {},
   "source": [
    "# Automatic File Sorter in File Explorer"
   ]
  },
  {
   "cell_type": "code",
   "execution_count": 13,
   "id": "f39f0936",
   "metadata": {},
   "outputs": [],
   "source": [
    "import os, shutil"
   ]
  },
  {
   "cell_type": "code",
   "execution_count": 49,
   "id": "3f8cc746",
   "metadata": {},
   "outputs": [],
   "source": [
    "path = \"C:/Users/juliu/Downloads/\""
   ]
  },
  {
   "cell_type": "code",
   "execution_count": 38,
   "id": "867d98a9",
   "metadata": {},
   "outputs": [],
   "source": [
    "list_dir = os.listdir(path)"
   ]
  },
  {
   "cell_type": "code",
   "execution_count": 48,
   "id": "7387398b",
   "metadata": {},
   "outputs": [],
   "source": [
    "folder_names = ['exe files', 'pdf files']\n",
    "\n",
    "for loop in range(0,2):\n",
    "    if not os.path.exists(path + folder_names[loop]):\n",
    "        os.mkdir(path + folder_names[loop])\n",
    "        \n",
    "for file in list_dir:\n",
    "    if '.exe' in file and not os.path.exists(path + 'exe files/' + file):\n",
    "        shutil.move(path + file, path + 'exe files/' + file)\n",
    "    elif '.pdf' in file and not os.path.exists(path + 'pdf files/' + file):\n",
    "        shutil.move(path + file, path + 'pdf files/' + file)"
   ]
  },
  {
   "cell_type": "code",
   "execution_count": 46,
   "id": "9833bb57",
   "metadata": {},
   "outputs": [],
   "source": []
  },
  {
   "cell_type": "code",
   "execution_count": null,
   "id": "c8986800",
   "metadata": {},
   "outputs": [],
   "source": []
  }
 ],
 "metadata": {
  "kernelspec": {
   "display_name": "Python 3 (ipykernel)",
   "language": "python",
   "name": "python3"
  },
  "language_info": {
   "codemirror_mode": {
    "name": "ipython",
    "version": 3
   },
   "file_extension": ".py",
   "mimetype": "text/x-python",
   "name": "python",
   "nbconvert_exporter": "python",
   "pygments_lexer": "ipython3",
   "version": "3.11.4"
  }
 },
 "nbformat": 4,
 "nbformat_minor": 5
}
