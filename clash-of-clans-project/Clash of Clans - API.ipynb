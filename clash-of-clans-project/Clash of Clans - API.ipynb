{
 "cells": [
  {
   "cell_type": "markdown",
   "id": "8926954b",
   "metadata": {},
   "source": [
    "# Initialize"
   ]
  },
  {
   "cell_type": "code",
   "execution_count": 1,
   "id": "f51c560f",
   "metadata": {},
   "outputs": [],
   "source": [
    "import requests as rq\n",
    "import pandas as pd\n",
    "import json\n",
    "import time\n",
    "import os"
   ]
  },
  {
   "cell_type": "markdown",
   "id": "cffcd4a3",
   "metadata": {},
   "source": [
    "# Get Data"
   ]
  },
  {
   "cell_type": "code",
   "execution_count": 8,
   "id": "ecd10498",
   "metadata": {},
   "outputs": [],
   "source": [
    "def get_data(acc):\n",
    "    global player_data\n",
    "\n",
    "    key = '#'\n",
    "    player = [\n",
    "        '%23JQRYG2UL',\n",
    "        '%23G2PGY2GGO'\n",
    "    ]\n",
    "    headers = {\n",
    "        'Accept': 'application/json',\n",
    "        'authorization': 'Bearer %s' % key\n",
    "    }\n",
    "\n",
    "    response = rq.request('GET', 'https://api.clashofclans.com/v1/players/' + player[acc - 1], headers = headers)\n",
    "    player_data = response.json()\n",
    "\n",
    "    get_player_achievements()\n",
    "    get_troop_data()"
   ]
  },
  {
   "cell_type": "markdown",
   "id": "319c25ab",
   "metadata": {},
   "source": [
    "# Get Achievements"
   ]
  },
  {
   "cell_type": "code",
   "execution_count": 9,
   "id": "3c97cd59",
   "metadata": {
    "scrolled": true
   },
   "outputs": [],
   "source": [
    "def get_player_achievements():\n",
    "    global player_data\n",
    "    dfs = []\n",
    "    achievements = {}\n",
    "    csv = r'C:\\Users\\CoC Files\\player_data.csv'\n",
    "\n",
    "    for achv in player_data['achievements']:\n",
    "        if achv['name'] == 'Gold Grab':\n",
    "            achievements[achv['name']] =  achv['value']\n",
    "        elif achv['name'] == 'Elixir Escapade':\n",
    "            achievements[achv['name']] =  achv['value']\n",
    "        elif achv['name'] == 'Heroic Heist':\n",
    "            achievements[achv['name']] =  achv['value']\n",
    "\n",
    "    dfs.append(pd.DataFrame([achievements]))\n",
    "    df = pd.concat(dfs, ignore_index=True, sort=False)\n",
    "    df['Tag'] = player_data['tag']\n",
    "    df['Name'] = player_data['name']\n",
    "    df['Town Hall Level'] = player_data['townHallLevel']\n",
    "    df['Trophies'] = player_data['trophies']\n",
    "    df['Builder Hall Level'] = player_data['builderHallLevel']\n",
    "    df['Builder Base Trophies'] = player_data['builderBaseTrophies']\n",
    "    df['Donations'] = player_data['donations']\n",
    "    df['Donations Received'] = player_data['donationsReceived']\n",
    "\n",
    "    for coln in dfs[0].columns:\n",
    "        df = df[[col for col in df.columns if col != coln] + [coln]]\n",
    "\n",
    "    df['Timestamp'] = pd.Timestamp.now()\n",
    "\n",
    "    if not os.path.isfile(csv):\n",
    "        df.to_csv(csv, header = 'column_names', index = False)\n",
    "    else:\n",
    "        df.to_csv(csv, mode = 'a', header = False, index = False)"
   ]
  },
  {
   "cell_type": "markdown",
   "id": "70a993ac",
   "metadata": {},
   "source": [
    "# Get Troop Data"
   ]
  },
  {
   "cell_type": "code",
   "execution_count": 10,
   "id": "8f564bdc",
   "metadata": {},
   "outputs": [],
   "source": [
    "def get_troop_data():\n",
    "    global player_data\n",
    "    dfs2 = []\n",
    "    csv2 = r'C:\\Users\\CoC Files\\troop_data.csv'\n",
    "\n",
    "    dfs2.append(pd.DataFrame(player_data['troops']))\n",
    "    dfs2.append(pd.DataFrame(player_data['heroes']))\n",
    "    dfs2.append(pd.DataFrame(player_data['spells']))\n",
    "    df2 = pd.concat(dfs2, ignore_index=True, sort=False)\n",
    "    df2['Tag'] = player_data['tag']\n",
    "    df2['Timestamp'] = pd.Timestamp.now()\n",
    "\n",
    "    df2 = df2[['Tag'] + [col for col in df2.columns if col != 'Tag']]\n",
    "\n",
    "    if not os.path.isfile(csv2):\n",
    "        df2.to_csv(csv2, header = 'column_names', index = False)\n",
    "    else:\n",
    "        df2.to_csv(csv2, mode = 'a', header = False, index = False)"
   ]
  },
  {
   "cell_type": "code",
   "execution_count": 13,
   "id": "9e457662",
   "metadata": {
    "scrolled": true
   },
   "outputs": [],
   "source": [
    "os.remove(r'C:\\Users\\CoC Files\\troop_data.csv')\n",
    "get_data(1)\n",
    "get_data(2)"
   ]
  },
  {
   "cell_type": "markdown",
   "id": "366fcb59",
   "metadata": {},
   "source": [
    "# Get Player Data"
   ]
  },
  {
   "cell_type": "code",
   "execution_count": 1,
   "id": "d5281936",
   "metadata": {},
   "outputs": [
    {
     "ename": "NameError",
     "evalue": "name 'get_data' is not defined",
     "output_type": "error",
     "traceback": [
      "\u001b[1;31m---------------------------------------------------------------------------\u001b[0m",
      "\u001b[1;31mNameError\u001b[0m                                 Traceback (most recent call last)",
      "Cell \u001b[1;32mIn[1], line 2\u001b[0m\n\u001b[0;32m      1\u001b[0m \u001b[38;5;28;01mwhile\u001b[39;00m(\u001b[38;5;28;01mTrue\u001b[39;00m):\n\u001b[1;32m----> 2\u001b[0m     get_data(\u001b[38;5;241m1\u001b[39m)\n\u001b[0;32m      3\u001b[0m     get_data(\u001b[38;5;241m2\u001b[39m)\n\u001b[0;32m      4\u001b[0m     time\u001b[38;5;241m.\u001b[39msleep(\u001b[38;5;241m86400\u001b[39m)\n",
      "\u001b[1;31mNameError\u001b[0m: name 'get_data' is not defined"
     ]
    }
   ],
   "source": [
    "while(True):\n",
    "    os.remove(r'C:\\Users\\CoC Files\\troop_data.csv')\n",
    "    get_data(1)\n",
    "    get_data(2)\n",
    "    time.sleep(86400)"
   ]
  }
 ],
 "metadata": {
  "kernelspec": {
   "display_name": "Python 3 (ipykernel)",
   "language": "python",
   "name": "python3"
  },
  "language_info": {
   "codemirror_mode": {
    "name": "ipython",
    "version": 3
   },
   "file_extension": ".py",
   "mimetype": "text/x-python",
   "name": "python",
   "nbconvert_exporter": "python",
   "pygments_lexer": "ipython3",
   "version": "3.11.4"
  }
 },
 "nbformat": 4,
 "nbformat_minor": 5
}
